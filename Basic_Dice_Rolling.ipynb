{
 "cells": [
  {
   "cell_type": "markdown",
   "id": "0a70e87c-10b6-4fdb-a302-8590aabdee04",
   "metadata": {},
   "source": [
    "# Dice Rolling Project"
   ]
  },
  {
   "cell_type": "code",
   "execution_count": 2,
   "id": "5d9eb262-7653-46bd-b7d1-7c7a10e46d32",
   "metadata": {},
   "outputs": [],
   "source": [
    "# Comments of thought-process\n",
    "\n",
    "# Import random model\n",
    "# loop:\n",
    "# Ask: roll the dice?\n",
    "# If user enters y \n",
    "# Generate 2 random numbers and print them\n",
    "# If user enters n then print thank you message\n",
    "# then terminate\n",
    "# else\n",
    "# print invalid choice"
   ]
  },
  {
   "cell_type": "code",
   "execution_count": 9,
   "id": "c2ff89e1-d706-491a-b7fa-4f1f7057a2ad",
   "metadata": {},
   "outputs": [
    {
     "name": "stdin",
     "output_type": "stream",
     "text": [
      "Roll the dice? (y/n)  1\n"
     ]
    },
    {
     "name": "stdout",
     "output_type": "stream",
     "text": [
      "Invalid choice\n"
     ]
    },
    {
     "name": "stdin",
     "output_type": "stream",
     "text": [
      "Roll the dice? (y/n)  n\n"
     ]
    },
    {
     "name": "stdout",
     "output_type": "stream",
     "text": [
      "Thanks for playing!\n"
     ]
    }
   ],
   "source": [
    "import random\n",
    "\n",
    "while True:\n",
    " choice = input('Roll the dice? (y/n) ').lower()\n",
    " if choice == 'y':\n",
    "    die1 = random.randint(1,6)\n",
    "    die2 = random.randint(1,6)\n",
    "    print(f'({die1}, {die2})')\n",
    " elif choice == 'n':\n",
    "    print( 'Thanks for playing!' )\n",
    "    break\n",
    " else:\n",
    "    print('Invalid choice')"
   ]
  }
 ],
 "metadata": {
  "kernelspec": {
   "display_name": "Python 3 (ipykernel)",
   "language": "python",
   "name": "python3"
  },
  "language_info": {
   "codemirror_mode": {
    "name": "ipython",
    "version": 3
   },
   "file_extension": ".py",
   "mimetype": "text/x-python",
   "name": "python",
   "nbconvert_exporter": "python",
   "pygments_lexer": "ipython3",
   "version": "3.12.7"
  }
 },
 "nbformat": 4,
 "nbformat_minor": 5
}
