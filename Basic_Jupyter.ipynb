{
 "cells": [
  {
   "cell_type": "code",
   "execution_count": 14,
   "id": "389ddd21-88c8-40c2-9c00-68e70480719a",
   "metadata": {},
   "outputs": [
    {
     "name": "stdout",
     "output_type": "stream",
     "text": [
      "22\n"
     ]
    }
   ],
   "source": [
    "x = 22\n",
    "print(x)"
   ]
  },
  {
   "cell_type": "code",
   "execution_count": 3,
   "id": "ec11fe89-3f0d-43c1-ae79-c5053ad68a79",
   "metadata": {},
   "outputs": [
    {
     "data": {
      "text/plain": [
       "int"
      ]
     },
     "execution_count": 3,
     "metadata": {},
     "output_type": "execute_result"
    }
   ],
   "source": [
    "type(x)"
   ]
  },
  {
   "cell_type": "code",
   "execution_count": 4,
   "id": "56c813ad-9ece-41d5-ab90-1625cb15ba35",
   "metadata": {},
   "outputs": [
    {
     "name": "stdout",
     "output_type": "stream",
     "text": [
      "Mint Chocolate Chip\n"
     ]
    }
   ],
   "source": [
    "y = 'Mint Chocolate Chip'\n",
    "\n",
    "print(y)"
   ]
  },
  {
   "cell_type": "code",
   "execution_count": 6,
   "id": "71bec857-07de-4893-8198-0014bb0b8f92",
   "metadata": {},
   "outputs": [
    {
     "data": {
      "text/plain": [
       "str"
      ]
     },
     "execution_count": 6,
     "metadata": {},
     "output_type": "execute_result"
    }
   ],
   "source": [
    "type(y)"
   ]
  },
  {
   "cell_type": "code",
   "execution_count": 7,
   "id": "1971a950-070e-4047-8d21-9591c959f4a9",
   "metadata": {},
   "outputs": [
    {
     "name": "stdout",
     "output_type": "stream",
     "text": [
      "Chocolate\n"
     ]
    }
   ],
   "source": [
    "y = 'Chocolate'\n",
    "print(y)"
   ]
  },
  {
   "cell_type": "code",
   "execution_count": 3,
   "id": "7a09011d-c38d-4b4b-a781-e345d405c5e7",
   "metadata": {},
   "outputs": [
    {
     "name": "stdout",
     "output_type": "stream",
     "text": [
      "Chocolate\n",
      "Vanilla\n",
      "Rocky Road\n"
     ]
    }
   ],
   "source": [
    "x,y,z = 'Chocolate', 'Vanilla', 'Rocky Road'\n",
    "print(x)\n",
    "print(y)\n",
    "print(z)"
   ]
  },
  {
   "cell_type": "code",
   "execution_count": 5,
   "id": "323b9246-9a64-4339-89fd-c63f2d9c8c7b",
   "metadata": {},
   "outputs": [
    {
     "name": "stdout",
     "output_type": "stream",
     "text": [
      "Root Beer Float\n",
      "Root Beer Float\n",
      "Root Beer Float\n"
     ]
    }
   ],
   "source": [
    "x = y = z = 'Root Beer Float'\n",
    "\n",
    "print(x)\n",
    "print(y)\n",
    "print(z)"
   ]
  },
  {
   "cell_type": "code",
   "execution_count": 8,
   "id": "897990cd-e633-44ef-8664-ce56f185ace2",
   "metadata": {},
   "outputs": [
    {
     "name": "stdout",
     "output_type": "stream",
     "text": [
      "Chocolate\n",
      "Vanilla\n",
      "Rocky Road\n"
     ]
    }
   ],
   "source": [
    "ice_cream = ['Chocolate', 'Vanilla', 'Rocky Road']\n",
    "\n",
    "x,y,z = ice_cream\n",
    "\n",
    "print(x)\n",
    "print(y)\n",
    "print(z)"
   ]
  },
  {
   "cell_type": "code",
   "execution_count": null,
   "id": "8d68e925-51d5-4810-b43e-400b9607244c",
   "metadata": {},
   "outputs": [],
   "source": []
  },
  {
   "cell_type": "markdown",
   "id": "fa04444f-aaf4-4f2c-b397-aaa35590f22b",
   "metadata": {},
   "source": [
    "# Camel Case\n",
    "\n",
    "# Test Variable Case\n",
    "\n",
    "testVariableCase = ' Vanilla Swirl'"
   ]
  },
  {
   "cell_type": "code",
   "execution_count": null,
   "id": "17f4cfb9-30fa-46d0-9832-244a42e7c451",
   "metadata": {},
   "outputs": [],
   "source": [
    "# Pascal Case\n",
    "\n",
    "# Test Variable Case\n",
    "\n",
    "TestVariableCase = ' Vanilla Swirl'"
   ]
  },
  {
   "cell_type": "code",
   "execution_count": null,
   "id": "1790fc21-2b5c-4091-98e2-0c2b9d9a3978",
   "metadata": {},
   "outputs": [],
   "source": [
    "# Snake Case\n",
    "\n",
    "# Test Variable Case\n",
    "\n",
    "test_variable_case = ' Vanilla Swirl'"
   ]
  },
  {
   "cell_type": "code",
   "execution_count": null,
   "id": "70f0042a-4ea8-4dab-a5bc-caa228a4b901",
   "metadata": {},
   "outputs": [],
   "source": [
    "testvar = ' Vanilla Swirl'\n",
    "test_var = ' Vanilla Swirl'\n",
    "_test_var = ' Vanilla Swirl'\n",
    "testVar = ' Vanilla Swirl'\n",
    "TestVar = ' Vanilla Swirl'\n",
    "testVar2 = ' Vanilla Swirl'"
   ]
  },
  {
   "cell_type": "code",
   "execution_count": 3,
   "id": "5769aeae-af99-4a6b-93c5-b0301584efd9",
   "metadata": {},
   "outputs": [
    {
     "name": "stdout",
     "output_type": "stream",
     "text": [
      "Ice Cream is my favourite.\n"
     ]
    }
   ],
   "source": [
    "\n",
    "x = 'Ice Cream is my favourite' + '.'\n",
    "\n",
    "print(x)"
   ]
  },
  {
   "cell_type": "code",
   "execution_count": 6,
   "id": "6910b9b0-5214-4836-9657-7c2fe4eb1ac5",
   "metadata": {},
   "outputs": [
    {
     "name": "stdout",
     "output_type": "stream",
     "text": [
      "5\n"
     ]
    }
   ],
   "source": [
    "y = 3 + 2\n",
    "print(y)"
   ]
  },
  {
   "cell_type": "code",
   "execution_count": 8,
   "id": "b0060879-1a61-4865-b18a-752ce44635ec",
   "metadata": {},
   "outputs": [
    {
     "name": "stdout",
     "output_type": "stream",
     "text": [
      "Ice Cream is my favourite.\n"
     ]
    }
   ],
   "source": [
    "x = 'Ice Cream '\n",
    "y = 'is '\n",
    "z = 'my favourite.'\n",
    "\n",
    "print(x+y+z)"
   ]
  },
  {
   "cell_type": "code",
   "execution_count": 9,
   "id": "28d6653e-6d1d-4b81-b7e8-c526b804e94b",
   "metadata": {},
   "outputs": [
    {
     "name": "stdout",
     "output_type": "stream",
     "text": [
      "6\n"
     ]
    }
   ],
   "source": [
    "x = 1\n",
    "y = 2\n",
    "z = 3\n",
    "\n",
    "print(x+y+z)"
   ]
  },
  {
   "cell_type": "code",
   "execution_count": null,
   "id": "0dfc774e-e22b-4737-a93b-941e61fe5a8d",
   "metadata": {},
   "outputs": [],
   "source": []
  },
  {
   "cell_type": "markdown",
   "id": "404cb5c2-19fe-42af-ad34-3b747f8c22ea",
   "metadata": {},
   "source": [
    "# Data Types"
   ]
  },
  {
   "cell_type": "code",
   "execution_count": 13,
   "id": "c4f4c035-9843-4ca7-a222-9b5c4d35fecd",
   "metadata": {},
   "outputs": [
    {
     "data": {
      "text/plain": [
       "int"
      ]
     },
     "execution_count": 13,
     "metadata": {},
     "output_type": "execute_result"
    }
   ],
   "source": [
    "type(12 + 10)"
   ]
  },
  {
   "cell_type": "code",
   "execution_count": 11,
   "id": "a6c08222-6956-435c-acae-0151ce347b0a",
   "metadata": {},
   "outputs": [
    {
     "data": {
      "text/plain": [
       "float"
      ]
     },
     "execution_count": 11,
     "metadata": {},
     "output_type": "execute_result"
    }
   ],
   "source": [
    "type(12 + 10.25)"
   ]
  },
  {
   "cell_type": "code",
   "execution_count": 14,
   "id": "de3930de-8275-4da9-8c76-25d11bfc0a0b",
   "metadata": {},
   "outputs": [
    {
     "data": {
      "text/plain": [
       "complex"
      ]
     },
     "execution_count": 14,
     "metadata": {},
     "output_type": "execute_result"
    }
   ],
   "source": [
    "type(12 + 3j)"
   ]
  },
  {
   "cell_type": "code",
   "execution_count": null,
   "id": "e800d194-8810-4adf-be83-3406922d14e0",
   "metadata": {},
   "outputs": [],
   "source": []
  },
  {
   "cell_type": "markdown",
   "id": "f80b40e0-adb3-4f86-bdf0-5d5a6a502b91",
   "metadata": {},
   "source": [
    "#Boolean"
   ]
  },
  {
   "cell_type": "code",
   "execution_count": 16,
   "id": "d7b85b9c-1f1b-49fc-b8ed-64b928b5f054",
   "metadata": {},
   "outputs": [
    {
     "data": {
      "text/plain": [
       "bool"
      ]
     },
     "execution_count": 16,
     "metadata": {},
     "output_type": "execute_result"
    }
   ],
   "source": [
    "type(True)"
   ]
  },
  {
   "cell_type": "code",
   "execution_count": 17,
   "id": "bce846c4-67bb-4682-b6f7-55741df00a33",
   "metadata": {},
   "outputs": [
    {
     "data": {
      "text/plain": [
       "bool"
      ]
     },
     "execution_count": 17,
     "metadata": {},
     "output_type": "execute_result"
    }
   ],
   "source": [
    "type(False)"
   ]
  },
  {
   "cell_type": "code",
   "execution_count": 18,
   "id": "a6624a4d-f274-4bee-89c1-99f030eaf2df",
   "metadata": {},
   "outputs": [
    {
     "data": {
      "text/plain": [
       "bool"
      ]
     },
     "execution_count": 18,
     "metadata": {},
     "output_type": "execute_result"
    }
   ],
   "source": [
    "type(1>5)"
   ]
  },
  {
   "cell_type": "code",
   "execution_count": 19,
   "id": "01cfa887-d31b-4a93-8cc0-6de9c7eab9ae",
   "metadata": {},
   "outputs": [
    {
     "data": {
      "text/plain": [
       "False"
      ]
     },
     "execution_count": 19,
     "metadata": {},
     "output_type": "execute_result"
    }
   ],
   "source": [
    "1>5"
   ]
  },
  {
   "cell_type": "code",
   "execution_count": 20,
   "id": "bccb9e89-dadc-42f4-b586-0999bcc348dc",
   "metadata": {},
   "outputs": [
    {
     "data": {
      "text/plain": [
       "True"
      ]
     },
     "execution_count": 20,
     "metadata": {},
     "output_type": "execute_result"
    }
   ],
   "source": [
    "1==1"
   ]
  },
  {
   "cell_type": "markdown",
   "id": "9fbaac8f-15db-436b-bbba-2bae313c0414",
   "metadata": {},
   "source": [
    "# Strings"
   ]
  },
  {
   "cell_type": "code",
   "execution_count": 22,
   "id": "aa31a154-b363-4f03-9f75-1957137f65cb",
   "metadata": {},
   "outputs": [
    {
     "data": {
      "text/plain": [
       "' Single Quote '"
      ]
     },
     "execution_count": 22,
     "metadata": {},
     "output_type": "execute_result"
    }
   ],
   "source": [
    "' Single Quote '"
   ]
  },
  {
   "cell_type": "code",
   "execution_count": 23,
   "id": "2d593f3d-7c8c-4332-b69f-ca97bf9e0063",
   "metadata": {},
   "outputs": [
    {
     "data": {
      "text/plain": [
       "' Double Quote '"
      ]
     },
     "execution_count": 23,
     "metadata": {},
     "output_type": "execute_result"
    }
   ],
   "source": [
    "\" Double Quote \""
   ]
  },
  {
   "cell_type": "code",
   "execution_count": 28,
   "id": "37252470-3d1f-43d7-9d2f-f68c0f2af43d",
   "metadata": {},
   "outputs": [
    {
     "name": "stdout",
     "output_type": "stream",
     "text": [
      " \n",
      "Hello we can write something here.\n",
      "And something here.\n",
      "\n"
     ]
    }
   ],
   "source": [
    "multiline = \"\"\" \n",
    "Hello we can write something here.\n",
    "And something here.\n",
    "\"\"\"\n",
    "\n",
    "print(multiline)"
   ]
  },
  {
   "cell_type": "code",
   "execution_count": 31,
   "id": "80d0ca40-c784-4de2-8ce6-16481ac95c2f",
   "metadata": {},
   "outputs": [
    {
     "name": "stdout",
     "output_type": "stream",
     "text": [
      "Hello\n"
     ]
    }
   ],
   "source": [
    "a = 'Hello World!'\n",
    "print(a[:5])"
   ]
  },
  {
   "cell_type": "code",
   "execution_count": 32,
   "id": "4262f663-33e8-46d0-b4be-4b4776a915f2",
   "metadata": {},
   "outputs": [
    {
     "name": "stdout",
     "output_type": "stream",
     "text": [
      " \n"
     ]
    }
   ],
   "source": [
    "a = 'Hello World!'\n",
    "print(a[5])"
   ]
  },
  {
   "cell_type": "code",
   "execution_count": 33,
   "id": "f61e49df-3b5c-4d72-b134-685e5f39d28c",
   "metadata": {},
   "outputs": [
    {
     "name": "stdout",
     "output_type": "stream",
     "text": [
      "W\n"
     ]
    }
   ],
   "source": [
    "a = 'Hello World!'\n",
    "print(a[6])"
   ]
  },
  {
   "cell_type": "code",
   "execution_count": 35,
   "id": "e5c94d80-b57e-4ce7-886b-9b6a4d191dc1",
   "metadata": {},
   "outputs": [
    {
     "name": "stdout",
     "output_type": "stream",
     "text": [
      "r\n"
     ]
    }
   ],
   "source": [
    "a = 'Hello World!'\n",
    "print(a[-4])"
   ]
  },
  {
   "cell_type": "code",
   "execution_count": 2,
   "id": "bc49a6d0-23d8-47c4-a3ed-e98515e44546",
   "metadata": {},
   "outputs": [
    {
     "name": "stdout",
     "output_type": "stream",
     "text": [
      "llo\n"
     ]
    }
   ],
   "source": [
    "a = 'Hello World!'\n",
    "print(a[2:5])"
   ]
  },
  {
   "cell_type": "code",
   "execution_count": 3,
   "id": "f4c8acf3-b9fa-4918-b503-746991ab4b90",
   "metadata": {},
   "outputs": [
    {
     "data": {
      "text/plain": [
       "'Hello World!Hello World!Hello World!'"
      ]
     },
     "execution_count": 3,
     "metadata": {},
     "output_type": "execute_result"
    }
   ],
   "source": [
    "a*3"
   ]
  },
  {
   "cell_type": "code",
   "execution_count": 4,
   "id": "b800b360-f02a-431b-8c47-3a8ba64815e2",
   "metadata": {},
   "outputs": [
    {
     "data": {
      "text/plain": [
       "'Hello World!Hello World!'"
      ]
     },
     "execution_count": 4,
     "metadata": {},
     "output_type": "execute_result"
    }
   ],
   "source": [
    "a+a"
   ]
  },
  {
   "cell_type": "code",
   "execution_count": null,
   "id": "1b043f37-2311-4371-9623-8dc30d452f07",
   "metadata": {},
   "outputs": [],
   "source": []
  },
  {
   "cell_type": "markdown",
   "id": "319a5c9e-65ea-4a92-928a-12ada9444d2b",
   "metadata": {},
   "source": [
    "# List\n"
   ]
  },
  {
   "cell_type": "code",
   "execution_count": 6,
   "id": "b5d9e395-393e-47c5-97f4-75151f6c65ce",
   "metadata": {},
   "outputs": [
    {
     "data": {
      "text/plain": [
       "[1, 2, 3]"
      ]
     },
     "execution_count": 6,
     "metadata": {},
     "output_type": "execute_result"
    }
   ],
   "source": [
    "[1,2,3]"
   ]
  },
  {
   "cell_type": "code",
   "execution_count": 7,
   "id": "ac06aff2-0893-4554-8216-a9989ae53e7a",
   "metadata": {},
   "outputs": [
    {
     "data": {
      "text/plain": [
       "['Cookie Dough', 'Strawberry', 'Chocolate']"
      ]
     },
     "execution_count": 7,
     "metadata": {},
     "output_type": "execute_result"
    }
   ],
   "source": [
    "['Cookie Dough', 'Strawberry', 'Chocolate']"
   ]
  },
  {
   "cell_type": "code",
   "execution_count": 9,
   "id": "d7efe8b8-5b2e-4801-bb3f-0671960ba2d5",
   "metadata": {},
   "outputs": [
    {
     "data": {
      "text/plain": [
       "['Vanilla', '3', ['Scoops', 'spoon'], True]"
      ]
     },
     "execution_count": 9,
     "metadata": {},
     "output_type": "execute_result"
    }
   ],
   "source": [
    "['Vanilla', '3', ['Scoops', 'spoon'], True]"
   ]
  },
  {
   "cell_type": "code",
   "execution_count": 11,
   "id": "9555c53a-f30c-4abb-aff5-f96bcf80fab3",
   "metadata": {},
   "outputs": [
    {
     "data": {
      "text/plain": [
       "['Cookie Dough', 'Strawberry', 'Chocolate', 'Salted Caramel']"
      ]
     },
     "execution_count": 11,
     "metadata": {},
     "output_type": "execute_result"
    }
   ],
   "source": [
    "ice_cream = ['Cookie Dough', 'Strawberry', 'Chocolate']\n",
    "\n",
    "ice_cream.append('Salted Caramel')\n",
    "\n",
    "ice_cream"
   ]
  },
  {
   "cell_type": "code",
   "execution_count": 16,
   "id": "84aec8e4-6c64-4deb-985b-c09436b2c799",
   "metadata": {},
   "outputs": [
    {
     "data": {
      "text/plain": [
       "['Butter Pecan', 'Strawberry', 'Chocolate', 'Salted Caramel']"
      ]
     },
     "execution_count": 16,
     "metadata": {},
     "output_type": "execute_result"
    }
   ],
   "source": [
    "ice_cream[0] = 'Butter Pecan'\n",
    "ice_cream"
   ]
  },
  {
   "cell_type": "code",
   "execution_count": 17,
   "id": "cd738ba0-9b7a-4d1f-9fe5-d74bf9c057a2",
   "metadata": {},
   "outputs": [],
   "source": [
    "nest_list = ['Vanilla', '3', ['Scoops', 'spoon'], True]"
   ]
  },
  {
   "cell_type": "code",
   "execution_count": 18,
   "id": "44f0aaa6-a3a4-4fb5-b429-d3e013ac49d9",
   "metadata": {},
   "outputs": [
    {
     "data": {
      "text/plain": [
       "'Vanilla'"
      ]
     },
     "execution_count": 18,
     "metadata": {},
     "output_type": "execute_result"
    }
   ],
   "source": [
    "nest_list[0]"
   ]
  },
  {
   "cell_type": "code",
   "execution_count": 19,
   "id": "17a859f4-ebde-474b-bebf-0f3fbb164193",
   "metadata": {},
   "outputs": [
    {
     "data": {
      "text/plain": [
       "['Scoops', 'spoon']"
      ]
     },
     "execution_count": 19,
     "metadata": {},
     "output_type": "execute_result"
    }
   ],
   "source": [
    "nest_list[2]"
   ]
  },
  {
   "cell_type": "code",
   "execution_count": 20,
   "id": "53310574-4c21-4709-a241-56ce86159e19",
   "metadata": {},
   "outputs": [
    {
     "data": {
      "text/plain": [
       "'spoon'"
      ]
     },
     "execution_count": 20,
     "metadata": {},
     "output_type": "execute_result"
    }
   ],
   "source": [
    "nest_list[2][1]"
   ]
  },
  {
   "cell_type": "code",
   "execution_count": null,
   "id": "c4bab3ff-61a4-4729-821e-fe59b358b0ee",
   "metadata": {},
   "outputs": [],
   "source": []
  },
  {
   "cell_type": "markdown",
   "id": "941bbf84-2a39-43ed-beb0-6e62cebcb43f",
   "metadata": {},
   "source": [
    "# Tuple"
   ]
  },
  {
   "cell_type": "code",
   "execution_count": 23,
   "id": "9e495490-1cce-47d4-aa9d-e7efcce5385f",
   "metadata": {},
   "outputs": [],
   "source": [
    "tuple_scoops = (1,2,3,2,1)"
   ]
  },
  {
   "cell_type": "code",
   "execution_count": 24,
   "id": "9772e6bd-becc-49ff-8fdb-12a7ba9518bf",
   "metadata": {},
   "outputs": [
    {
     "data": {
      "text/plain": [
       "tuple"
      ]
     },
     "execution_count": 24,
     "metadata": {},
     "output_type": "execute_result"
    }
   ],
   "source": [
    "type(tuple_scoops)"
   ]
  },
  {
   "cell_type": "code",
   "execution_count": 25,
   "id": "9150d1f3-968d-40f0-affb-ffe2f88bfbb8",
   "metadata": {},
   "outputs": [
    {
     "data": {
      "text/plain": [
       "1"
      ]
     },
     "execution_count": 25,
     "metadata": {},
     "output_type": "execute_result"
    }
   ],
   "source": [
    "tuple_scoops[0]"
   ]
  },
  {
   "cell_type": "code",
   "execution_count": null,
   "id": "24c44325-2297-4397-8771-961fa5d48216",
   "metadata": {},
   "outputs": [],
   "source": []
  },
  {
   "cell_type": "markdown",
   "id": "03f56998-a3b3-4781-a9f6-e8db7ffcb7e9",
   "metadata": {},
   "source": [
    "# Sets"
   ]
  },
  {
   "cell_type": "code",
   "execution_count": 26,
   "id": "1ffc1e49-72b7-4aff-ab8b-97f591d8dabf",
   "metadata": {},
   "outputs": [],
   "source": [
    "daily_pints = {1,2,3}"
   ]
  },
  {
   "cell_type": "code",
   "execution_count": 27,
   "id": "bf2c416e-89f4-41a0-9a1a-b8736f428190",
   "metadata": {},
   "outputs": [
    {
     "data": {
      "text/plain": [
       "set"
      ]
     },
     "execution_count": 27,
     "metadata": {},
     "output_type": "execute_result"
    }
   ],
   "source": [
    "type(daily_pints)"
   ]
  },
  {
   "cell_type": "code",
   "execution_count": 28,
   "id": "c9342077-6dea-4e81-b8c7-465f4890d8a2",
   "metadata": {},
   "outputs": [
    {
     "name": "stdout",
     "output_type": "stream",
     "text": [
      "{1, 2, 3}\n"
     ]
    }
   ],
   "source": [
    "print(daily_pints)"
   ]
  },
  {
   "cell_type": "code",
   "execution_count": 33,
   "id": "6fe32d66-4d10-4045-bf33-9f162f058046",
   "metadata": {},
   "outputs": [],
   "source": [
    "daily_pints_log = {1,2,3,4,5555,6,1,2,3}"
   ]
  },
  {
   "cell_type": "code",
   "execution_count": 29,
   "id": "231e18d7-1a61-490c-b28f-27eb1798b15c",
   "metadata": {},
   "outputs": [],
   "source": [
    "wifes_daily_pints_log = {1,3,4,2,4,5,6,4,2234,3}"
   ]
  },
  {
   "cell_type": "code",
   "execution_count": 31,
   "id": "40cccc41-73fa-42ec-a5f6-fa1ceae8acfc",
   "metadata": {},
   "outputs": [
    {
     "name": "stdout",
     "output_type": "stream",
     "text": [
      "{1, 2, 3, 4, 5, 6, 2234}\n"
     ]
    }
   ],
   "source": [
    "print(wifes_daily_pints_log)"
   ]
  },
  {
   "cell_type": "code",
   "execution_count": 36,
   "id": "449e7960-ee03-498c-8408-72797d86613e",
   "metadata": {},
   "outputs": [
    {
     "name": "stdout",
     "output_type": "stream",
     "text": [
      "{1, 2, 3, 4, 5, 6, 5555, 2234}\n"
     ]
    }
   ],
   "source": [
    "print(daily_pints_log | wifes_daily_pints_log)"
   ]
  },
  {
   "cell_type": "code",
   "execution_count": 38,
   "id": "34981bfd-ccbe-4275-8789-9ceb6fd3ca7c",
   "metadata": {},
   "outputs": [
    {
     "name": "stdout",
     "output_type": "stream",
     "text": [
      "{1, 2, 3, 4, 6}\n"
     ]
    }
   ],
   "source": [
    "print(daily_pints_log & wifes_daily_pints_log)"
   ]
  },
  {
   "cell_type": "code",
   "execution_count": 40,
   "id": "abf7b85c-4e56-4f84-8460-18863405a407",
   "metadata": {},
   "outputs": [
    {
     "name": "stdout",
     "output_type": "stream",
     "text": [
      "{2234, 5}\n"
     ]
    }
   ],
   "source": [
    "print(wifes_daily_pints_log - daily_pints_log)"
   ]
  },
  {
   "cell_type": "code",
   "execution_count": 41,
   "id": "1c15f1bb-2eb0-4579-9c44-3aef74bfe8e2",
   "metadata": {},
   "outputs": [
    {
     "name": "stdout",
     "output_type": "stream",
     "text": [
      "{5555, 5, 2234}\n"
     ]
    }
   ],
   "source": [
    "print(wifes_daily_pints_log ^ daily_pints_log)"
   ]
  },
  {
   "cell_type": "code",
   "execution_count": null,
   "id": "c1394f8a-c208-445e-b2e5-377d1c0bb1d2",
   "metadata": {},
   "outputs": [],
   "source": []
  },
  {
   "cell_type": "markdown",
   "id": "721bb9bb-9c40-4fc6-af39-cb7f63310fcc",
   "metadata": {},
   "source": [
    "# Dictionaries\n",
    "# Key/Value pair"
   ]
  },
  {
   "cell_type": "code",
   "execution_count": 4,
   "id": "3bf41ec4-6052-42dc-babe-213a84549439",
   "metadata": {},
   "outputs": [],
   "source": [
    "dict_cream = {'name': 'Alex Freberg', 'weekly intake': 5, 'fav ice creams': ['MCC','Choco']}"
   ]
  },
  {
   "cell_type": "code",
   "execution_count": 5,
   "id": "5a741496-7a28-48fb-894d-fe3933a96ada",
   "metadata": {},
   "outputs": [
    {
     "data": {
      "text/plain": [
       "dict"
      ]
     },
     "execution_count": 5,
     "metadata": {},
     "output_type": "execute_result"
    }
   ],
   "source": [
    "type(dict_cream)"
   ]
  },
  {
   "cell_type": "code",
   "execution_count": 6,
   "id": "a26da2c2-6aa8-449a-8337-9e6a66c0a4f5",
   "metadata": {},
   "outputs": [
    {
     "name": "stdout",
     "output_type": "stream",
     "text": [
      "{'name': 'Alex Freberg', 'weekly intake': 5, 'fav ice creams': ['MCC', 'Choco']}\n"
     ]
    }
   ],
   "source": [
    "print(dict_cream)"
   ]
  },
  {
   "cell_type": "code",
   "execution_count": 7,
   "id": "2ff86f47-8fac-4257-8aae-e7778668d96c",
   "metadata": {},
   "outputs": [
    {
     "data": {
      "text/plain": [
       "dict_values(['Alex Freberg', 5, ['MCC', 'Choco']])"
      ]
     },
     "execution_count": 7,
     "metadata": {},
     "output_type": "execute_result"
    }
   ],
   "source": [
    "dict_cream.values()"
   ]
  },
  {
   "cell_type": "code",
   "execution_count": 8,
   "id": "6a62d115-53a2-44e3-8585-e868f15cc195",
   "metadata": {},
   "outputs": [
    {
     "data": {
      "text/plain": [
       "dict_items([('name', 'Alex Freberg'), ('weekly intake', 5), ('fav ice creams', ['MCC', 'Choco'])])"
      ]
     },
     "execution_count": 8,
     "metadata": {},
     "output_type": "execute_result"
    }
   ],
   "source": [
    "dict_cream.items()"
   ]
  },
  {
   "cell_type": "code",
   "execution_count": 9,
   "id": "6ccac3a9-757d-4b7f-a988-7ed1d7ce23b7",
   "metadata": {},
   "outputs": [
    {
     "data": {
      "text/plain": [
       "'Alex Freberg'"
      ]
     },
     "execution_count": 9,
     "metadata": {},
     "output_type": "execute_result"
    }
   ],
   "source": [
    "dict_cream['name']"
   ]
  },
  {
   "cell_type": "code",
   "execution_count": 11,
   "id": "8e4314bd-0b62-4571-86ec-88f6296dd03e",
   "metadata": {},
   "outputs": [
    {
     "name": "stdout",
     "output_type": "stream",
     "text": [
      "{'name': 'Christine Freberg', 'weekly intake': 5, 'fav ice creams': ['MCC', 'Choco']}\n"
     ]
    }
   ],
   "source": [
    "dict_cream['name'] = 'Christine Freberg'\n",
    "print(dict_cream)"
   ]
  },
  {
   "cell_type": "code",
   "execution_count": 15,
   "id": "5b778912-b449-43b6-a9f5-e47edc15a377",
   "metadata": {},
   "outputs": [
    {
     "name": "stdout",
     "output_type": "stream",
     "text": [
      "{'name': 'Christine Freberg', 'weekly intake': 5, 'fav ice creams': ['MCC', 'Choco'], 'weight': 300}\n"
     ]
    }
   ],
   "source": [
    "dict_cream.update({'name': 'Christine Freberg', 'weekly intake': 5, 'weight': 300})\n",
    "\n",
    "print(dict_cream)"
   ]
  },
  {
   "cell_type": "code",
   "execution_count": 16,
   "id": "1215604c-93e5-44cb-8842-4dfdebd69730",
   "metadata": {},
   "outputs": [
    {
     "name": "stdout",
     "output_type": "stream",
     "text": [
      "{'name': 'Christine Freberg', 'weekly intake': 5, 'fav ice creams': ['MCC', 'Choco']}\n"
     ]
    }
   ],
   "source": [
    "del dict_cream['weight']\n",
    "print(dict_cream)"
   ]
  },
  {
   "cell_type": "code",
   "execution_count": null,
   "id": "b2975691-e4a2-4f77-860d-a8424034794c",
   "metadata": {},
   "outputs": [],
   "source": []
  },
  {
   "cell_type": "markdown",
   "id": "ad42473b-a549-41d9-b1f9-3302e6609eb5",
   "metadata": {},
   "source": [
    "# Comparison Operators"
   ]
  },
  {
   "cell_type": "code",
   "execution_count": 18,
   "id": "6ec1f06c-903c-4f53-ac8e-2f66cfd28abb",
   "metadata": {},
   "outputs": [
    {
     "data": {
      "text/plain": [
       "True"
      ]
     },
     "execution_count": 18,
     "metadata": {},
     "output_type": "execute_result"
    }
   ],
   "source": [
    "10 == 10"
   ]
  },
  {
   "cell_type": "code",
   "execution_count": 19,
   "id": "9e0e38d0-b8d3-4ffa-b27c-1c8c24c66623",
   "metadata": {},
   "outputs": [
    {
     "data": {
      "text/plain": [
       "False"
      ]
     },
     "execution_count": 19,
     "metadata": {},
     "output_type": "execute_result"
    }
   ],
   "source": [
    "10 == 50"
   ]
  },
  {
   "cell_type": "code",
   "execution_count": 20,
   "id": "fffb5a28-d125-480c-990e-f46e665661e9",
   "metadata": {},
   "outputs": [
    {
     "data": {
      "text/plain": [
       "True"
      ]
     },
     "execution_count": 20,
     "metadata": {},
     "output_type": "execute_result"
    }
   ],
   "source": [
    "10 != 50"
   ]
  },
  {
   "cell_type": "code",
   "execution_count": 22,
   "id": "406172b8-c18a-4aec-8491-5d38833cdad3",
   "metadata": {},
   "outputs": [
    {
     "data": {
      "text/plain": [
       "True"
      ]
     },
     "execution_count": 22,
     "metadata": {},
     "output_type": "execute_result"
    }
   ],
   "source": [
    "'Vanilla' == 'Vanilla'"
   ]
  },
  {
   "cell_type": "code",
   "execution_count": 23,
   "id": "8421868f-f8ad-4d82-b83a-8b79d1cd0718",
   "metadata": {},
   "outputs": [
    {
     "data": {
      "text/plain": [
       "True"
      ]
     },
     "execution_count": 23,
     "metadata": {},
     "output_type": "execute_result"
    }
   ],
   "source": [
    "x = 'Vanilla'\n",
    "y = 'Choc'\n",
    "\n",
    "x != y"
   ]
  },
  {
   "cell_type": "code",
   "execution_count": 24,
   "id": "d033b7c3-1a2f-4705-9c3c-175e311a2364",
   "metadata": {},
   "outputs": [
    {
     "data": {
      "text/plain": [
       "True"
      ]
     },
     "execution_count": 24,
     "metadata": {},
     "output_type": "execute_result"
    }
   ],
   "source": [
    "10 < 50"
   ]
  },
  {
   "cell_type": "code",
   "execution_count": 25,
   "id": "c31a3192-7cff-479d-a9a0-e959d3bc622f",
   "metadata": {},
   "outputs": [
    {
     "data": {
      "text/plain": [
       "False"
      ]
     },
     "execution_count": 25,
     "metadata": {},
     "output_type": "execute_result"
    }
   ],
   "source": [
    "10 < 10"
   ]
  },
  {
   "cell_type": "code",
   "execution_count": 26,
   "id": "d319b475-04e9-4de8-9fd2-ba295445dbc3",
   "metadata": {},
   "outputs": [
    {
     "data": {
      "text/plain": [
       "True"
      ]
     },
     "execution_count": 26,
     "metadata": {},
     "output_type": "execute_result"
    }
   ],
   "source": [
    "10 <= 10"
   ]
  },
  {
   "cell_type": "code",
   "execution_count": null,
   "id": "c998e36d-91c9-4959-ba2e-b07c58d8cd20",
   "metadata": {},
   "outputs": [],
   "source": []
  },
  {
   "cell_type": "code",
   "execution_count": 27,
   "id": "bc9c6a03-35a5-4d79-9bb0-cf5f3bc5e15c",
   "metadata": {},
   "outputs": [
    {
     "data": {
      "text/plain": [
       "False"
      ]
     },
     "execution_count": 27,
     "metadata": {},
     "output_type": "execute_result"
    }
   ],
   "source": [
    "(10 > 50) and (50>10)"
   ]
  },
  {
   "cell_type": "code",
   "execution_count": 28,
   "id": "0cd12917-1091-47c2-a816-2edaa080e594",
   "metadata": {},
   "outputs": [
    {
     "data": {
      "text/plain": [
       "True"
      ]
     },
     "execution_count": 28,
     "metadata": {},
     "output_type": "execute_result"
    }
   ],
   "source": [
    "(60 > 50) and (50>10)"
   ]
  },
  {
   "cell_type": "code",
   "execution_count": 29,
   "id": "b6260e82-e21c-4808-b126-1c2213a937b4",
   "metadata": {},
   "outputs": [
    {
     "data": {
      "text/plain": [
       "True"
      ]
     },
     "execution_count": 29,
     "metadata": {},
     "output_type": "execute_result"
    }
   ],
   "source": [
    "(10 > 50) or (50>10)"
   ]
  },
  {
   "cell_type": "code",
   "execution_count": 30,
   "id": "4c6ac9d0-b450-49d8-994d-ec03cf74315a",
   "metadata": {},
   "outputs": [
    {
     "data": {
      "text/plain": [
       "True"
      ]
     },
     "execution_count": 30,
     "metadata": {},
     "output_type": "execute_result"
    }
   ],
   "source": [
    "('Vanilla' > 'Chocolate') and ('Vanilla' > 'Chocolate')"
   ]
  },
  {
   "cell_type": "code",
   "execution_count": 31,
   "id": "1b9a625a-e857-424d-a313-500c0c065bb5",
   "metadata": {},
   "outputs": [
    {
     "data": {
      "text/plain": [
       "False"
      ]
     },
     "execution_count": 31,
     "metadata": {},
     "output_type": "execute_result"
    }
   ],
   "source": [
    "not('Vanilla' > 'Chocolate') and ('Vanilla' > 'Chocolate')"
   ]
  },
  {
   "cell_type": "code",
   "execution_count": 33,
   "id": "02fbc061-d89a-4432-811a-48309fec7b74",
   "metadata": {},
   "outputs": [
    {
     "data": {
      "text/plain": [
       "True"
      ]
     },
     "execution_count": 33,
     "metadata": {},
     "output_type": "execute_result"
    }
   ],
   "source": [
    "ice_cream = ' I love Chocolate Ice Cream'\n",
    "\n",
    "'love' in ice_cream"
   ]
  },
  {
   "cell_type": "code",
   "execution_count": 34,
   "id": "7bc89e41-9961-4242-8d6e-1cf7f8c5f57e",
   "metadata": {},
   "outputs": [
    {
     "data": {
      "text/plain": [
       "True"
      ]
     },
     "execution_count": 34,
     "metadata": {},
     "output_type": "execute_result"
    }
   ],
   "source": [
    "scoops = [1,2,3,4,5]\n",
    "\n",
    "2 in scoops"
   ]
  },
  {
   "cell_type": "code",
   "execution_count": 36,
   "id": "c81213dc-8e75-4c50-8c7c-e50d2a3564e6",
   "metadata": {},
   "outputs": [
    {
     "data": {
      "text/plain": [
       "False"
      ]
     },
     "execution_count": 36,
     "metadata": {},
     "output_type": "execute_result"
    }
   ],
   "source": [
    "scoops = [1,2,3,4,5]\n",
    "wanted_scoops = 2\n",
    "\n",
    "wanted_scoops not in scoops"
   ]
  },
  {
   "cell_type": "code",
   "execution_count": 35,
   "id": "0f1489a5-48e9-40fb-894a-6eb17dd97426",
   "metadata": {},
   "outputs": [
    {
     "data": {
      "text/plain": [
       "True"
      ]
     },
     "execution_count": 35,
     "metadata": {},
     "output_type": "execute_result"
    }
   ],
   "source": [
    "scoops = [1,2,3,4,5]\n",
    "\n",
    "6 not in scoops"
   ]
  },
  {
   "cell_type": "code",
   "execution_count": null,
   "id": "59b0ca8b-ced6-4c37-830a-57f00f8b0072",
   "metadata": {},
   "outputs": [],
   "source": []
  },
  {
   "cell_type": "markdown",
   "id": "a22bae54-5691-46e0-844b-cac79661fa27",
   "metadata": {},
   "source": [
    "# If - Elif - Else Statements"
   ]
  },
  {
   "cell_type": "code",
   "execution_count": 1,
   "id": "be1abdd5-8728-433a-8d74-0dd846d17b8e",
   "metadata": {},
   "outputs": [
    {
     "name": "stdout",
     "output_type": "stream",
     "text": [
      "it worked\n"
     ]
    }
   ],
   "source": [
    "if 25 > 10:\n",
    "    print('it worked')"
   ]
  },
  {
   "cell_type": "code",
   "execution_count": 3,
   "id": "514ab528-671d-4bf2-b23f-42ad7752ea75",
   "metadata": {},
   "outputs": [
    {
     "name": "stdout",
     "output_type": "stream",
     "text": [
      "It did not work...\n"
     ]
    }
   ],
   "source": [
    "if 25 < 10:\n",
    "    print('it worked')\n",
    "else:\n",
    "    print('It did not work...')"
   ]
  },
  {
   "cell_type": "code",
   "execution_count": 4,
   "id": "6d8dcd87-1d86-4774-b93f-477e4ef61154",
   "metadata": {},
   "outputs": [
    {
     "name": "stdout",
     "output_type": "stream",
     "text": [
      "it worked\n"
     ]
    }
   ],
   "source": [
    "if 25 > 10:\n",
    "    print('it worked')\n",
    "else:\n",
    "    print('It did not work...')"
   ]
  },
  {
   "cell_type": "code",
   "execution_count": 5,
   "id": "866e287b-7de8-42d7-a514-6611390e1da1",
   "metadata": {},
   "outputs": [
    {
     "name": "stdout",
     "output_type": "stream",
     "text": [
      "elif worked\n"
     ]
    }
   ],
   "source": [
    "if 25 < 10:\n",
    "    print('it worked')\n",
    "elif 25 < 30:\n",
    "    print('elif worked')\n",
    "else:\n",
    "    print('It did not work...')"
   ]
  },
  {
   "cell_type": "code",
   "execution_count": 7,
   "id": "f3c7bff8-1364-4f48-b12a-c378e479795c",
   "metadata": {},
   "outputs": [
    {
     "name": "stdout",
     "output_type": "stream",
     "text": [
      "elif worked2\n"
     ]
    }
   ],
   "source": [
    "if 25 < 10:\n",
    "    print('it worked')\n",
    "elif 25 < 20:\n",
    "    print('elif worked')\n",
    "elif 25 < 21:\n",
    "    print('elif worked1')\n",
    "elif 25 < 40:\n",
    "    print('elif worked2')\n",
    "elif 25 < 50:\n",
    "    print('elif worked3')\n",
    "else:\n",
    "    print('It did not work...')"
   ]
  },
  {
   "cell_type": "code",
   "execution_count": 8,
   "id": "6b76d902-59b5-4695-93c6-e539e581098d",
   "metadata": {},
   "outputs": [
    {
     "name": "stdout",
     "output_type": "stream",
     "text": [
      "it worked\n"
     ]
    }
   ],
   "source": [
    "if 25 < 10 or (1<3):\n",
    "    print('it worked')\n",
    "elif 25 < 20:\n",
    "    print('elif worked')\n",
    "elif 25 < 21:\n",
    "    print('elif worked1')\n",
    "elif 25 < 40:\n",
    "    print('elif worked2')\n",
    "elif 25 < 50:\n",
    "    print('elif worked3')\n",
    "else:\n",
    "    print('It did not work...')\n"
   ]
  },
  {
   "cell_type": "code",
   "execution_count": null,
   "id": "e70fa6da-31fe-4847-9a40-e9b60f6c8421",
   "metadata": {},
   "outputs": [],
   "source": []
  },
  {
   "cell_type": "code",
   "execution_count": 9,
   "id": "4da09b06-fd19-41c0-af57-c11dcf309240",
   "metadata": {},
   "outputs": [
    {
     "name": "stdout",
     "output_type": "stream",
     "text": [
      "it did not work...\n"
     ]
    }
   ],
   "source": [
    "print('it worked!') if 10>30 else print('it did not work...')"
   ]
  },
  {
   "cell_type": "markdown",
   "id": "f056941f-013b-4730-9d9f-f48159a98f21",
   "metadata": {},
   "source": [
    "# Nested if statement"
   ]
  },
  {
   "cell_type": "code",
   "execution_count": 10,
   "id": "05ebe469-6479-4053-a471-d8607097f9f5",
   "metadata": {},
   "outputs": [
    {
     "name": "stdout",
     "output_type": "stream",
     "text": [
      "it worked\n",
      "This nested if statement worked\n"
     ]
    }
   ],
   "source": [
    "if 25 < 10 or (1<3):\n",
    "    print('it worked')\n",
    "    if 10 > 5:\n",
    "        print('This nested if statement worked')\n",
    "elif 25 < 20:\n",
    "    print('elif worked')\n",
    "elif 25 < 21:\n",
    "    print('elif worked1')\n",
    "elif 25 < 40:\n",
    "    print('elif worked2')\n",
    "elif 25 < 50:\n",
    "    print('elif worked3')\n",
    "else:\n",
    "    print('It did not work...')\n"
   ]
  },
  {
   "cell_type": "code",
   "execution_count": null,
   "id": "7caa6f2a-1382-4106-aece-a9d580a892d4",
   "metadata": {},
   "outputs": [],
   "source": []
  },
  {
   "cell_type": "markdown",
   "id": "96329a43-d955-4c75-9711-f2be61f8c9ea",
   "metadata": {},
   "source": [
    "# For Loops"
   ]
  },
  {
   "cell_type": "code",
   "execution_count": 12,
   "id": "30e00826-8acc-472b-965b-9f8d537cd9cb",
   "metadata": {},
   "outputs": [
    {
     "name": "stdout",
     "output_type": "stream",
     "text": [
      "[1, 2, 3, 4, 5]\n"
     ]
    }
   ],
   "source": [
    "integers = [1,2,3,4,5]\n",
    "print(integers)"
   ]
  },
  {
   "cell_type": "code",
   "execution_count": 14,
   "id": "76f2f6f6-31c1-44b9-b7fa-c04e7077e2b4",
   "metadata": {},
   "outputs": [
    {
     "name": "stdout",
     "output_type": "stream",
     "text": [
      "1\n",
      "2\n",
      "3\n",
      "4\n",
      "5\n"
     ]
    }
   ],
   "source": [
    "for number  in integers:\n",
    "    print(number)"
   ]
  },
  {
   "cell_type": "code",
   "execution_count": 15,
   "id": "f07db46e-fc5d-43df-b253-95924d655139",
   "metadata": {},
   "outputs": [
    {
     "name": "stdout",
     "output_type": "stream",
     "text": [
      "yep!\n",
      "yep!\n",
      "yep!\n",
      "yep!\n",
      "yep!\n"
     ]
    }
   ],
   "source": [
    "for number  in integers:\n",
    "    print('yep!')"
   ]
  },
  {
   "cell_type": "code",
   "execution_count": 16,
   "id": "75ed6e8b-32c7-4655-8147-5e16a9864131",
   "metadata": {},
   "outputs": [],
   "source": [
    "integers = [1,2,3,4,5]"
   ]
  },
  {
   "cell_type": "code",
   "execution_count": 17,
   "id": "c4ff167f-ec76-4f4c-b40c-eac4efa2045f",
   "metadata": {},
   "outputs": [
    {
     "name": "stdout",
     "output_type": "stream",
     "text": [
      "2\n",
      "4\n",
      "6\n",
      "8\n",
      "10\n"
     ]
    }
   ],
   "source": [
    "for Jelly  in integers:\n",
    "    print(Jelly+Jelly)"
   ]
  },
  {
   "cell_type": "code",
   "execution_count": null,
   "id": "2d3fb5d3-d4c6-4d70-81af-80c85b528b75",
   "metadata": {},
   "outputs": [],
   "source": []
  },
  {
   "cell_type": "code",
   "execution_count": 19,
   "id": "7df6f432-b8b3-49b9-b71f-133c011f1339",
   "metadata": {},
   "outputs": [],
   "source": [
    "ice_cream_dict = {'name' : 'Alex Freberg', 'weekly intake' : 5, 'favourite ice creams': ['MCC', 'Chocolate']}"
   ]
  },
  {
   "cell_type": "code",
   "execution_count": 20,
   "id": "07cb8026-c853-4ae9-817e-e4f349eaa6a2",
   "metadata": {},
   "outputs": [
    {
     "name": "stdout",
     "output_type": "stream",
     "text": [
      "Alex Freberg\n",
      "5\n",
      "['MCC', 'Chocolate']\n"
     ]
    }
   ],
   "source": [
    "for cream in ice_cream_dict.values():\n",
    "    print(cream)"
   ]
  },
  {
   "cell_type": "code",
   "execution_count": 22,
   "id": "94b92d48-d129-41c4-939a-882459c7c841",
   "metadata": {},
   "outputs": [
    {
     "name": "stdout",
     "output_type": "stream",
     "text": [
      "name -> Alex Freberg\n",
      "weekly intake -> 5\n",
      "favourite ice creams -> ['MCC', 'Chocolate']\n"
     ]
    }
   ],
   "source": [
    "for key,value in ice_cream_dict.items():\n",
    "    print(key,'->',value)"
   ]
  },
  {
   "cell_type": "code",
   "execution_count": null,
   "id": "af173629-25b8-49af-a59d-0ed3082e6b25",
   "metadata": {},
   "outputs": [],
   "source": []
  },
  {
   "cell_type": "markdown",
   "id": "7594407c-23f8-4c47-8ecd-ce931b5f9b95",
   "metadata": {},
   "source": [
    "# Nested For Loops"
   ]
  },
  {
   "cell_type": "code",
   "execution_count": 23,
   "id": "1197c27f-752e-44f6-a361-cf779f9ac81f",
   "metadata": {},
   "outputs": [],
   "source": [
    "flavours = ['Vanilla', 'Chocolate', 'Cookie Dough']\n",
    "toppings = ['Hot Fudge', 'Oreos', 'Marshmallows']"
   ]
  },
  {
   "cell_type": "code",
   "execution_count": 24,
   "id": "c594d317-aa07-4858-8e01-ae5477768949",
   "metadata": {},
   "outputs": [
    {
     "name": "stdout",
     "output_type": "stream",
     "text": [
      "Vanilla topped with Hot Fudge\n",
      "Vanilla topped with Oreos\n",
      "Vanilla topped with Marshmallows\n",
      "Chocolate topped with Hot Fudge\n",
      "Chocolate topped with Oreos\n",
      "Chocolate topped with Marshmallows\n",
      "Cookie Dough topped with Hot Fudge\n",
      "Cookie Dough topped with Oreos\n",
      "Cookie Dough topped with Marshmallows\n"
     ]
    }
   ],
   "source": [
    "for one in flavours:\n",
    "    for two in toppings:\n",
    "        print(one,'topped with', two)"
   ]
  },
  {
   "cell_type": "code",
   "execution_count": null,
   "id": "b13f8dfb-e662-4a9e-a89b-096394298215",
   "metadata": {},
   "outputs": [],
   "source": []
  },
  {
   "cell_type": "markdown",
   "id": "52ddd545-694b-4cfc-a0c2-86711f62acff",
   "metadata": {},
   "source": [
    "# While Loops"
   ]
  },
  {
   "cell_type": "code",
   "execution_count": 3,
   "id": "c5d05fec-eafd-4664-a966-ad6fb6cd4e87",
   "metadata": {},
   "outputs": [
    {
     "name": "stdout",
     "output_type": "stream",
     "text": [
      "0\n",
      "1\n",
      "2\n",
      "3\n",
      "4\n"
     ]
    }
   ],
   "source": [
    "number = 0\n",
    "\n",
    "while number < 5:\n",
    "    print(number)\n",
    "    number = number + 1"
   ]
  },
  {
   "cell_type": "code",
   "execution_count": 4,
   "id": "e7d07135-c72d-4a95-a18b-30b8b321ed2f",
   "metadata": {},
   "outputs": [
    {
     "name": "stdout",
     "output_type": "stream",
     "text": [
      "0\n",
      "1\n",
      "2\n",
      "3\n"
     ]
    }
   ],
   "source": [
    "number = 0\n",
    "\n",
    "while number < 5:\n",
    "    print(number)\n",
    "    if number == 3:\n",
    "        break\n",
    "    number = number + 1"
   ]
  },
  {
   "cell_type": "code",
   "execution_count": 5,
   "id": "aa4d6fcd-d4c7-43c7-bd14-c8e294092968",
   "metadata": {},
   "outputs": [
    {
     "name": "stdout",
     "output_type": "stream",
     "text": [
      "0\n",
      "1\n",
      "2\n",
      "3\n",
      "4\n",
      "No Longer < 5\n"
     ]
    }
   ],
   "source": [
    "number = 0\n",
    "\n",
    "while number < 5:\n",
    "    print(number)\n",
    "    if number == 6:\n",
    "        break\n",
    "    number = number + 1\n",
    "else:\n",
    "    print('No Longer < 5')"
   ]
  },
  {
   "cell_type": "code",
   "execution_count": 6,
   "id": "149a2632-d709-4dc0-aba6-c2a27fd4cb86",
   "metadata": {},
   "outputs": [
    {
     "name": "stdout",
     "output_type": "stream",
     "text": [
      "0\n",
      "1\n",
      "2\n",
      "3\n"
     ]
    }
   ],
   "source": [
    "number = 0\n",
    "\n",
    "while number < 5:\n",
    "    print(number)\n",
    "    if number == 3:\n",
    "        break\n",
    "    number = number + 1\n",
    "else:\n",
    "    print('No Longer < 5')"
   ]
  },
  {
   "cell_type": "code",
   "execution_count": 7,
   "id": "b077fb75-1eb3-4bad-bb52-8d390a99ccb2",
   "metadata": {},
   "outputs": [
    {
     "name": "stdout",
     "output_type": "stream",
     "text": [
      "1\n",
      "2\n",
      "4\n",
      "5\n",
      "No Longer < 5\n"
     ]
    }
   ],
   "source": [
    "number = 0\n",
    "\n",
    "while number < 5:\n",
    "    number = number + 1\n",
    "    if number == 3:\n",
    "        continue\n",
    "    print(number)\n",
    "else:\n",
    "    print('No Longer < 5')"
   ]
  },
  {
   "cell_type": "code",
   "execution_count": null,
   "id": "2b3d58fa-cc4c-4a4d-a530-752aaf0ba83f",
   "metadata": {},
   "outputs": [],
   "source": []
  },
  {
   "cell_type": "markdown",
   "id": "dfbb3a8f-2234-444c-b83c-65fd1b4e777e",
   "metadata": {},
   "source": [
    "# Functions"
   ]
  },
  {
   "cell_type": "code",
   "execution_count": 1,
   "id": "f4714e90-ce79-4014-a09a-9e174b43de91",
   "metadata": {},
   "outputs": [],
   "source": [
    "def first_func():\n",
    "    print('We did it!')"
   ]
  },
  {
   "cell_type": "code",
   "execution_count": 2,
   "id": "a7f584fd-603f-40a4-be07-49b854d029dd",
   "metadata": {},
   "outputs": [
    {
     "name": "stdout",
     "output_type": "stream",
     "text": [
      "We did it!\n"
     ]
    }
   ],
   "source": [
    "first_func()"
   ]
  },
  {
   "cell_type": "code",
   "execution_count": null,
   "id": "d499f1f9-27e1-4df6-8060-ff62fa3c6ca1",
   "metadata": {},
   "outputs": [],
   "source": []
  },
  {
   "cell_type": "code",
   "execution_count": 3,
   "id": "ce6e4997-2222-49a0-8048-2e73fb926f77",
   "metadata": {},
   "outputs": [],
   "source": [
    "def number_squared(number):\n",
    "    print(number**2)"
   ]
  },
  {
   "cell_type": "code",
   "execution_count": 5,
   "id": "4aa2f1eb-eb11-48fb-8a69-2ad264f58c51",
   "metadata": {},
   "outputs": [
    {
     "name": "stdout",
     "output_type": "stream",
     "text": [
      "25\n"
     ]
    }
   ],
   "source": [
    "number_squared(5)"
   ]
  },
  {
   "cell_type": "code",
   "execution_count": 6,
   "id": "b68123ed-2f9d-457c-9923-69c1ba7948ec",
   "metadata": {},
   "outputs": [],
   "source": [
    "def number_squared_cust(number,power):\n",
    "    print(number**power)"
   ]
  },
  {
   "cell_type": "code",
   "execution_count": 7,
   "id": "a5ad0280-dab8-43ea-954a-81f715626d90",
   "metadata": {},
   "outputs": [
    {
     "name": "stdout",
     "output_type": "stream",
     "text": [
      "125\n"
     ]
    }
   ],
   "source": [
    "number_squared_cust(5,3)"
   ]
  },
  {
   "cell_type": "code",
   "execution_count": 8,
   "id": "d33e7474-51b1-48df-9911-7fbb8e5f49ab",
   "metadata": {},
   "outputs": [],
   "source": [
    "def number_args(*number):\n",
    "    print(number[0]*number[1])"
   ]
  },
  {
   "cell_type": "code",
   "execution_count": 10,
   "id": "426ad7e2-3280-4802-b7aa-1cb9dbbbca20",
   "metadata": {},
   "outputs": [
    {
     "name": "stdout",
     "output_type": "stream",
     "text": [
      "30\n"
     ]
    }
   ],
   "source": [
    "number_args(5,6,1,2,8)"
   ]
  },
  {
   "cell_type": "code",
   "execution_count": 11,
   "id": "1a903d21-02f8-4225-9b4c-7653ed0e64b2",
   "metadata": {},
   "outputs": [],
   "source": [
    "arg_tuple = (5,6,1,2,8)\n",
    "\n",
    "def number_args(*number):\n",
    "    print(number[0]*number[1])"
   ]
  },
  {
   "cell_type": "code",
   "execution_count": 12,
   "id": "93170e23-3b83-448a-87f3-ad14191f2350",
   "metadata": {},
   "outputs": [
    {
     "name": "stdout",
     "output_type": "stream",
     "text": [
      "30\n"
     ]
    }
   ],
   "source": [
    "number_args(*arg_tuple)"
   ]
  },
  {
   "cell_type": "code",
   "execution_count": null,
   "id": "a3529d80-4601-40ca-8196-bdfd8aec19d9",
   "metadata": {},
   "outputs": [],
   "source": [
    "def number_squared_cust(number,power):\n",
    "    print(number**power)"
   ]
  },
  {
   "cell_type": "code",
   "execution_count": 14,
   "id": "bded31d7-eb74-4995-8bc5-f5145dda4432",
   "metadata": {},
   "outputs": [
    {
     "name": "stdout",
     "output_type": "stream",
     "text": [
      "243\n"
     ]
    }
   ],
   "source": [
    "number_squared_cust(power = 5,number = 3)"
   ]
  },
  {
   "cell_type": "code",
   "execution_count": 23,
   "id": "73526659-5bfd-4cc0-9719-caf848bcee73",
   "metadata": {},
   "outputs": [],
   "source": [
    "def number_kwarg(**number):\n",
    "    print('My number is: ' + number['integer'] + ' My other number: ' + number['integer2'])"
   ]
  },
  {
   "cell_type": "code",
   "execution_count": 24,
   "id": "df0a89a7-041e-4d24-98c0-c4984bcb25f1",
   "metadata": {},
   "outputs": [
    {
     "name": "stdout",
     "output_type": "stream",
     "text": [
      "My number is: 2309 My other number: 349\n"
     ]
    }
   ],
   "source": [
    "number_kwarg(integer = '2309', integer2 = '349')"
   ]
  },
  {
   "cell_type": "code",
   "execution_count": null,
   "id": "37bb6f5f-7f24-40d2-9a85-aff44f145eba",
   "metadata": {},
   "outputs": [],
   "source": []
  },
  {
   "cell_type": "markdown",
   "id": "47a4414b-5368-4ac0-a75d-a0d68aa4d9cc",
   "metadata": {},
   "source": [
    "# Converting Data Types"
   ]
  },
  {
   "cell_type": "code",
   "execution_count": 25,
   "id": "b74672e5-457e-418f-a0be-8c4476d8a2f8",
   "metadata": {},
   "outputs": [
    {
     "data": {
      "text/plain": [
       "int"
      ]
     },
     "execution_count": 25,
     "metadata": {},
     "output_type": "execute_result"
    }
   ],
   "source": [
    "num_int = 7\n",
    "\n",
    "type(num_int)"
   ]
  },
  {
   "cell_type": "code",
   "execution_count": 26,
   "id": "4637183f-b0be-4445-8b00-9dfe17b27652",
   "metadata": {},
   "outputs": [
    {
     "data": {
      "text/plain": [
       "str"
      ]
     },
     "execution_count": 26,
     "metadata": {},
     "output_type": "execute_result"
    }
   ],
   "source": [
    "num_string = '7'\n",
    "\n",
    "type(num_string)"
   ]
  },
  {
   "cell_type": "code",
   "execution_count": 35,
   "id": "f2c36c62-53d2-488c-9244-7b2051704ab6",
   "metadata": {},
   "outputs": [
    {
     "data": {
      "text/plain": [
       "int"
      ]
     },
     "execution_count": 35,
     "metadata": {},
     "output_type": "execute_result"
    }
   ],
   "source": [
    "num_string_conv = int(num_string)\n",
    "\n",
    "type(num_string_conv)"
   ]
  },
  {
   "cell_type": "code",
   "execution_count": 34,
   "id": "854c3f5f-d97a-4efc-b0b4-b92946dfe497",
   "metadata": {},
   "outputs": [
    {
     "name": "stdout",
     "output_type": "stream",
     "text": [
      "14\n"
     ]
    }
   ],
   "source": [
    "num_sum = num_int + num_string_conv\n",
    "\n",
    "print(num_sum)"
   ]
  },
  {
   "cell_type": "code",
   "execution_count": 37,
   "id": "ea36bd8e-2b4c-4195-a015-3d0d9b905045",
   "metadata": {},
   "outputs": [
    {
     "data": {
      "text/plain": [
       "list"
      ]
     },
     "execution_count": 37,
     "metadata": {},
     "output_type": "execute_result"
    }
   ],
   "source": [
    "list_type = [1,2,3]\n",
    "\n",
    "type(list_type)"
   ]
  },
  {
   "cell_type": "code",
   "execution_count": 38,
   "id": "c2bf4db6-f15a-4395-ab3b-7745a50360ee",
   "metadata": {},
   "outputs": [
    {
     "data": {
      "text/plain": [
       "tuple"
      ]
     },
     "execution_count": 38,
     "metadata": {},
     "output_type": "execute_result"
    }
   ],
   "source": [
    "tuple(list_type)\n",
    "\n",
    "type(tuple(list_type))"
   ]
  },
  {
   "cell_type": "code",
   "execution_count": 39,
   "id": "9e9bf670-f546-44a0-b6cf-8cf52394a4e2",
   "metadata": {},
   "outputs": [],
   "source": [
    "list_type = [1,2,3,1,2,3,4,3,3,2,1]"
   ]
  },
  {
   "cell_type": "code",
   "execution_count": 40,
   "id": "71080c8c-9f10-44b4-89f8-8a2a706630e1",
   "metadata": {},
   "outputs": [
    {
     "data": {
      "text/plain": [
       "{1, 2, 3, 4}"
      ]
     },
     "execution_count": 40,
     "metadata": {},
     "output_type": "execute_result"
    }
   ],
   "source": [
    "set(list_type)"
   ]
  },
  {
   "cell_type": "code",
   "execution_count": 41,
   "id": "8f41a6d5-479a-4352-8143-1218ba45ef6f",
   "metadata": {},
   "outputs": [
    {
     "data": {
      "text/plain": [
       "set"
      ]
     },
     "execution_count": 41,
     "metadata": {},
     "output_type": "execute_result"
    }
   ],
   "source": [
    "type(set(list_type))"
   ]
  },
  {
   "cell_type": "code",
   "execution_count": 44,
   "id": "d0f7e8ac-2446-43a2-9903-f507348411eb",
   "metadata": {},
   "outputs": [
    {
     "data": {
      "text/plain": [
       "dict"
      ]
     },
     "execution_count": 44,
     "metadata": {},
     "output_type": "execute_result"
    }
   ],
   "source": [
    "dict_type = {'name': 'Alex', 'age' : 28, 'hair' : 'M/A'}\n",
    "\n",
    "type(dict_type)"
   ]
  },
  {
   "cell_type": "code",
   "execution_count": 45,
   "id": "04de6246-c8d9-4414-b0ad-d5a55b8a93be",
   "metadata": {},
   "outputs": [
    {
     "data": {
      "text/plain": [
       "dict_items([('name', 'Alex'), ('age', 28), ('hair', 'M/A')])"
      ]
     },
     "execution_count": 45,
     "metadata": {},
     "output_type": "execute_result"
    }
   ],
   "source": [
    "dict_type.items()"
   ]
  },
  {
   "cell_type": "code",
   "execution_count": 46,
   "id": "4c364c76-4330-43ab-b4df-8703780db832",
   "metadata": {},
   "outputs": [
    {
     "data": {
      "text/plain": [
       "dict_values(['Alex', 28, 'M/A'])"
      ]
     },
     "execution_count": 46,
     "metadata": {},
     "output_type": "execute_result"
    }
   ],
   "source": [
    "dict_type.values()"
   ]
  },
  {
   "cell_type": "code",
   "execution_count": 47,
   "id": "d7244d69-d2d9-40f5-9364-97d6906995be",
   "metadata": {},
   "outputs": [
    {
     "data": {
      "text/plain": [
       "dict_keys(['name', 'age', 'hair'])"
      ]
     },
     "execution_count": 47,
     "metadata": {},
     "output_type": "execute_result"
    }
   ],
   "source": [
    "dict_type.keys()"
   ]
  },
  {
   "cell_type": "code",
   "execution_count": 48,
   "id": "7ebb1551-d48e-4ace-9a84-e0eb299775fa",
   "metadata": {},
   "outputs": [
    {
     "data": {
      "text/plain": [
       "['name', 'age', 'hair']"
      ]
     },
     "execution_count": 48,
     "metadata": {},
     "output_type": "execute_result"
    }
   ],
   "source": [
    "list(dict_type.keys())"
   ]
  },
  {
   "cell_type": "code",
   "execution_count": 51,
   "id": "8e19cba3-7bdb-43a0-ba8d-36c5285e2f39",
   "metadata": {},
   "outputs": [
    {
     "data": {
      "text/plain": [
       "list"
      ]
     },
     "execution_count": 51,
     "metadata": {},
     "output_type": "execute_result"
    }
   ],
   "source": [
    "type(list(dict_type.keys()))"
   ]
  },
  {
   "cell_type": "code",
   "execution_count": 52,
   "id": "bf60b89b-ec0b-44b2-a9e8-da79974e82da",
   "metadata": {},
   "outputs": [
    {
     "data": {
      "text/plain": [
       "['I', ' ', 'l', 'i', 'k', 'e', ' ', 't', 'o', ' ', 'p', 'a', 'r', 't', 'y']"
      ]
     },
     "execution_count": 52,
     "metadata": {},
     "output_type": "execute_result"
    }
   ],
   "source": [
    "long_str = \"I like to party\"\n",
    "\n",
    "list(long_str)"
   ]
  },
  {
   "cell_type": "code",
   "execution_count": null,
   "id": "7bcc0c26-cebd-4f21-9ccc-70166f025bbd",
   "metadata": {},
   "outputs": [],
   "source": []
  },
  {
   "cell_type": "code",
   "execution_count": null,
   "id": "027c252a-c31f-408c-b9f6-1823de1a5a12",
   "metadata": {},
   "outputs": [],
   "source": []
  },
  {
   "cell_type": "code",
   "execution_count": null,
   "id": "3500ddd6-de12-4631-b5a4-68111265b811",
   "metadata": {},
   "outputs": [],
   "source": []
  },
  {
   "cell_type": "code",
   "execution_count": null,
   "id": "e01e3b5d-dd3d-4177-84f0-05a1fa0cdaf3",
   "metadata": {},
   "outputs": [],
   "source": []
  },
  {
   "cell_type": "code",
   "execution_count": null,
   "id": "8eab03f8-8b14-4098-8151-ef6c3ad9eda5",
   "metadata": {},
   "outputs": [],
   "source": []
  },
  {
   "cell_type": "code",
   "execution_count": null,
   "id": "308dfe15-6b8e-4cca-b347-5f9f00579844",
   "metadata": {},
   "outputs": [],
   "source": []
  },
  {
   "cell_type": "code",
   "execution_count": null,
   "id": "35a232ac-a5f6-4cdc-9a63-eb0b19d37970",
   "metadata": {},
   "outputs": [],
   "source": []
  }
 ],
 "metadata": {
  "kernelspec": {
   "display_name": "Python 3 (ipykernel)",
   "language": "python",
   "name": "python3"
  },
  "language_info": {
   "codemirror_mode": {
    "name": "ipython",
    "version": 3
   },
   "file_extension": ".py",
   "mimetype": "text/x-python",
   "name": "python",
   "nbconvert_exporter": "python",
   "pygments_lexer": "ipython3",
   "version": "3.12.7"
  }
 },
 "nbformat": 4,
 "nbformat_minor": 5
}
