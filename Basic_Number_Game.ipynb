{
 "cells": [
  {
   "cell_type": "markdown",
   "id": "ef2c5810-8d02-4705-98fb-4e93275c092f",
   "metadata": {},
   "source": [
    "# Guess the number game"
   ]
  },
  {
   "cell_type": "code",
   "execution_count": null,
   "id": "4a4cbf0d-29b2-43ba-96d2-4658dbf2076f",
   "metadata": {},
   "outputs": [],
   "source": [
    "# Thought process : \n",
    "# Program should generate a random number\n",
    "# Loop\n",
    "  # ask the user to make a guess \n",
    "  # If not a valid number\n",
    "  #    print an error\n",
    "  # if number < guess\n",
    "  #    print too low\n",
    "  # if number > guess\n",
    "  #   print too high\n",
    "  # else\n",
    "  #  print well done"
   ]
  },
  {
   "cell_type": "code",
   "execution_count": 3,
   "id": "1a6aa002-e57c-4586-8d48-aa2b9592815e",
   "metadata": {},
   "outputs": [],
   "source": [
    "import random\n"
   ]
  },
  {
   "cell_type": "code",
   "execution_count": null,
   "id": "8d482439-abaf-41e3-860d-493cbd045011",
   "metadata": {},
   "outputs": [
    {
     "name": "stdout",
     "output_type": "stream",
     "text": [
      "\n",
      "New game started!\n"
     ]
    },
    {
     "name": "stdin",
     "output_type": "stream",
     "text": [
      "Guess the number between 1 and 100:  23\n"
     ]
    },
    {
     "name": "stdout",
     "output_type": "stream",
     "text": [
      "That is too low\n"
     ]
    }
   ],
   "source": [
    "import random\n",
    "\n",
    "while True:\n",
    "    number_to_guess = random.randint(1, 100)\n",
    "    print(\"\\nNew game started!\")\n",
    "\n",
    "    while True:\n",
    "        try:\n",
    "            guess = int(input(\"Guess the number between 1 and 100: \"))\n",
    "            if guess < number_to_guess:\n",
    "                print(\"That is too low\")\n",
    "            elif guess > number_to_guess:\n",
    "                print(\"That is too high\")\n",
    "            else:\n",
    "                print(\"That is correct!\")\n",
    "                break  # Exit guessing loop\n",
    "        except ValueError:\n",
    "            print(\"That is not a valid guess\")\n",
    "\n",
    "    # Ask after they guess correctly, outside the guessing loop\n",
    "    play_again = input(\"Do you want to play again? (yes/no): \").strip().lower()\n",
    "    if play_again == \"yes\":\n",
    "        print(\"Awesome, let's go!\")\n",
    "        # The outer while loop will restart automatically\n",
    "    else:\n",
    "        print(\"Thanks for playing!\")\n",
    "        break  # Exit the outer loop and end the program"
   ]
  },
  {
   "cell_type": "code",
   "execution_count": null,
   "id": "44088e67-1398-40cb-8a1e-dbeeca3e057b",
   "metadata": {},
   "outputs": [],
   "source": []
  },
  {
   "cell_type": "code",
   "execution_count": null,
   "id": "1d4ff771-7cc0-42cc-8c2f-5e7bd14e0b4a",
   "metadata": {},
   "outputs": [],
   "source": []
  },
  {
   "cell_type": "code",
   "execution_count": null,
   "id": "3cffb006-8c0b-4b4a-9748-4d849e2a8594",
   "metadata": {},
   "outputs": [],
   "source": []
  },
  {
   "cell_type": "code",
   "execution_count": null,
   "id": "4c62fa72-08a8-4fa0-8f03-eeddd4f61ba8",
   "metadata": {},
   "outputs": [],
   "source": []
  },
  {
   "cell_type": "code",
   "execution_count": null,
   "id": "3a572471-91ac-4a6d-a54b-1ab4263a12eb",
   "metadata": {},
   "outputs": [],
   "source": []
  }
 ],
 "metadata": {
  "kernelspec": {
   "display_name": "Python 3 (ipykernel)",
   "language": "python",
   "name": "python3"
  },
  "language_info": {
   "codemirror_mode": {
    "name": "ipython",
    "version": 3
   },
   "file_extension": ".py",
   "mimetype": "text/x-python",
   "name": "python",
   "nbconvert_exporter": "python",
   "pygments_lexer": "ipython3",
   "version": "3.12.7"
  }
 },
 "nbformat": 4,
 "nbformat_minor": 5
}
